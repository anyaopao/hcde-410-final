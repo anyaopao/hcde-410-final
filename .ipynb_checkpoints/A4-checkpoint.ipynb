{
 "cells": [
  {
   "cell_type": "markdown",
   "id": "5d4b54f0-823d-4c2e-aea9-aa0e9c94287c",
   "metadata": {},
   "source": [
    "# **A4: Final Project Plan**"
   ]
  },
  {
   "cell_type": "markdown",
   "id": "2aa66643-01c7-4b38-8e48-63e29574da0a",
   "metadata": {},
   "source": [
    "### Analyzing the Impact of Gamification towards Education"
   ]
  },
  {
   "cell_type": "markdown",
   "id": "ee08a7cb-867e-443b-8488-8ad0f7384556",
   "metadata": {},
   "source": [
    "## Overview"
   ]
  },
  {
   "cell_type": "markdown",
   "id": "670e9b7c-39d4-4680-b1db-ee6e56f82e52",
   "metadata": {},
   "source": [
    "Gamification in an educational setting has significantly increased in recent years. These platforms often rely on incorporating reward-based mechanics such as leaderboards, badges, point systems, and quizes to promote learning. With platforms such as *BrainPop*, *IXL*, *Kahoot!*, and *Quizlet* offering a fun and interactive environment, students are motivated to actively engage in the learning process. \n",
    "\n",
    "While several studies have indicated positive impacts of gamified learning platforms, the degree of effectiveness remains contentious. Additionally, some studies discuss the ethical implications of gamified learning platforms, such as the overemphasis on competition, coersion/persuasion, and unsustainability of these platforms in the long-term. \n",
    "\n",
    "In light of these conflicting findings, this project seeks to understand and evaluate the effectiveness of gamified learning platforms on students' academic performance."
   ]
  },
  {
   "cell_type": "markdown",
   "id": "993ea24b-cd8d-4c55-a49d-216322ca6c0a",
   "metadata": {},
   "source": [
    "## Research Questions"
   ]
  },
  {
   "cell_type": "markdown",
   "id": "2a58d093-ec7a-4b24-85cd-a844d13da595",
   "metadata": {},
   "source": [
    "1. *Do students who use the gamified learning platform achieve significantly higher results than non-users?*\n",
    "\n",
    "2. *How does the frequency of quiz submissions correlate with academic performance improvement?*\n",
    "\n",
    "3. *What is the effect of using a gamified learning platform on students’ final exam grades compared to their practice exam grades?*"
   ]
  },
  {
   "cell_type": "markdown",
   "id": "0c2bc390-1e12-4da7-8fd1-18f7905d99ec",
   "metadata": {},
   "source": [
    "## Background & Related Works"
   ]
  },
  {
   "cell_type": "markdown",
   "id": "b73df71c-ca10-4230-80d6-f0a59f4fcd81",
   "metadata": {},
   "source": [
    "Gamification, a term first coined by game designer Nick Pelling in the early 21st century, refers to the concept of using game elements and mechanics to non-game contexts to increase product engagement [1]. While the term itself is relatively new, the concept of gamification can be dated back to the early 1900s through the Boy Scout Movement where boy scouts earned badges for their achievements [1]. \n",
    "\n",
    "Over the course of time, designers have gained a better understanding into the underlying mechanics that make gamification engaging and boost motivation. From a behavioral psychology perspective, gamification utilizes persuasive mechanisms such as rewards, feedback loops, competition, and intrinsic motivations into these systems [2].\n",
    "\n",
    "Gamification in education started seeing significant progress in integration during the 2010s. Platforms that incorporated game mechanics into the learning process, like *Kahoot!* and *Classcraft*, gained popularity among students by making the learning process fun [2]. Its popularity can also be credited to how computer systems became much more ubiquitous during the 21st century [3].\n",
    "\n",
    "Previous studies evaluating the effectiveness of gamification in education have shown a positive correlation between platform usage and academic performance. However, it is important to note that these studies have also found the relationship to be unstable: \"Two meta-analysis studies [...] show that applying gamification in education can improve cognitive, motivational and behavioral learning outcomes with small to medium effect sizes (0.25 to 0.56). However, [...] the size of the reported effect [...] is not stable\" [4]. Much is still unknown about the factors that contribute to the efficacy of gamification, as well as how gamification holds up in the long-term.\n",
    "\n",
    "There are also debates pertaining to the ethical implications of gamification. According to Yu-Kai Chou, an entrepreneur and experience designer that pinoneered the industry of gamification, \"gamification is manipulative\" [5]. In otherwords, the mechanisms in gamification are very powerful in terms of persuasion. With a number of gamified platforms placing high value towards badge collection and ranks in leaderboards, it is easy for users to lose \"sight of why their action is desirable\" [5]. To balance, the key in creating a user friendly gamified platform would be transparency in experience: \"one where the consumer knows that they’re playing\" [5]."
   ]
  },
  {
   "cell_type": "markdown",
   "id": "ff12ba58-95bd-41f5-8db7-3fe325ed9a6c",
   "metadata": {},
   "source": [
    "## Data Selection\n"
   ]
  },
  {
   "cell_type": "markdown",
   "id": "41f00632-5f28-4c3f-8d63-78d1927e7cda",
   "metadata": {},
   "source": [
    "For this study, the dataset(s) utilized will be the following..."
   ]
  },
  {
   "cell_type": "markdown",
   "id": "2a688628-688a-4208-b9f1-7bfa270ea808",
   "metadata": {},
   "source": [
    "| **Dataset** | [🏅Gamification in Education](https://www.kaggle.com/datasets/gianinamariapetrascu/gamification-students-grades) |\n",
    "|:-----------|:--------------------------------------------------------------|\n",
    "| **Summary** | Dataset shows impact of gamified learning application towards exam grades |\n",
    "| **Measured Variables** | Platform Usage Status; Practice Exam Grades; Final Exam Grades; Average Quiz Grades; Quiz Submission Frequency |\n",
    "| **Relevance** | Contains measurable data under gamified and non-gamified conditions |\n",
    "| **Ethical Considerations** | No information on participant representation, content of learning application, informed consent in accessing grades |\n",
    "| **License/Terms of Use** | Data files © Gianina-Maria Petrașcu |"
   ]
  },
  {
   "cell_type": "markdown",
   "id": "8e0201e5-96e6-49df-b74b-8439e2e58f39",
   "metadata": {},
   "source": [
    "## Methodology"
   ]
  },
  {
   "cell_type": "markdown",
   "id": "8df76336-03e5-407a-81ce-5a39e45aadac",
   "metadata": {},
   "source": [
    "### Descriptive Statistics"
   ]
  },
  {
   "cell_type": "markdown",
   "id": "30a302b2-c9ad-437d-8753-de9f6c34bb9f",
   "metadata": {},
   "source": [
    "**Summary statistics (mean, median, standard deviation):** \n",
    "- For Practice Exam Grades (before platform usage) and Final Exam grades (after platform usage)\n",
    "- *Justification: Gives overview of central tendencies and variability in exam scores.*\n",
    "\n",
    "**Distribution Frequency:** \n",
    "- For number of quiz submission frequencies\n",
    "- *Justification: Reveals whether frequent engagement with platform correlates with better/improved academic performance.*"
   ]
  },
  {
   "cell_type": "markdown",
   "id": "d4bc13a5-1898-4d99-9b5e-33bc02935bd7",
   "metadata": {},
   "source": [
    "### Comparative Analysis"
   ]
  },
  {
   "cell_type": "markdown",
   "id": "fd27f2ea-b6a6-4683-b88d-13ad352ee0a2",
   "metadata": {},
   "source": [
    "**Dependent t-test:**\n",
    "- Compare Practice Exam Grades with Final Exam Grades for students who utilized gamified learning platform\n",
    "- *Justification: Comparing same group of students before and after utilizing platform. Assesses whether there was a statistically significant improvement in exam grades.*\n",
    "\n",
    "**Independent t-test:**\n",
    "- Compare grade difference between students who did and did not utilize gamified learning platform\n",
    "- *Justification: Comparing two groups -- students who did and did not utilize platform. Assess whether there was a statistically significant impact on final grades with/without using platform.*\n",
    "\n",
    "**Analysis of Variance (ANOVA) test:**\n",
    "- Compare difference in final grade across quiz submission frequency (divide into 3 groups).\n",
    "- *Justification: Comparing three groups -- quiz submission frequency divided into 3 groups. Assess whether there was a statistically significant impact on quiz submission frequency on final grades.*"
   ]
  },
  {
   "cell_type": "markdown",
   "id": "dc320052-0dc1-4f11-b019-1720bbfd0365",
   "metadata": {},
   "source": [
    "### Correlation Analysis"
   ]
  },
  {
   "cell_type": "markdown",
   "id": "2cfd2135-b6e9-4652-a537-1ad9bf57bcd2",
   "metadata": {},
   "source": [
    "**Pearson's Correlation Coefficient (r):** \n",
    "- Evaluate relationship between quiz submission frequency and grade improvement\n",
    "- *Justification: Determines statistical relationship between quiz submission frequency with academic performance improvement.*"
   ]
  },
  {
   "cell_type": "markdown",
   "id": "94f09f5e-6686-46a9-a234-ca1d41763db6",
   "metadata": {},
   "source": [
    "### Information Visualization"
   ]
  },
  {
   "cell_type": "markdown",
   "id": "23919d75-8b7b-4c3d-9b1f-e74848ef5399",
   "metadata": {},
   "source": [
    "**Boxplots:** \n",
    "- Show Final Exam Grade distribution for students who did and did not utilize gamified learning platform\n",
    "- *Justification: Clearly outlines central tendencies, variability, and potential outliers between the two groups -- students who did and did not utilize platform.*\n",
    "\n",
    "**Scatterplots:**\n",
    "- Show relationship between quiz submission frequency and grade improvement; Pearson's Correlation Coefficient findings\n",
    "- *Justification: Shows relationship strength and direction between quiz submission frequency and grade improvement.*"
   ]
  },
  {
   "cell_type": "markdown",
   "id": "91e0cf24-f074-423c-9b77-a85ba207ac82",
   "metadata": {},
   "source": [
    "## Unkowns & Dependencies"
   ]
  },
  {
   "cell_type": "markdown",
   "id": "e941cba8-be73-4580-be49-b56d5c755833",
   "metadata": {},
   "source": [
    "**Confounding Variables** \n",
    "\n",
    "- No information regarding dataset sampling: representative? students' prior knowledge? study habits? motivational levels?\n",
    "- Unaware of the difficulty consistency between practice exam and final exma.\n",
    "- Little information regarding gamified learning platform: the only information provided were that the platform included \"interactive flashcards and badges to engage them in learning about statistics and multidimensional statistical analysis\".\n",
    "- Engagement with platform is largely undocumented: time spent on platform? interactions with flashcards and badges?\n",
    "- Missing/Incomplete Data: Some cells in the dataset are missing, such as incomplete or missing exam grades."
   ]
  },
  {
   "cell_type": "markdown",
   "id": "d6664bb1-f3c3-4376-9f32-18627b76bf41",
   "metadata": {},
   "source": [
    "## Methodology"
   ]
  },
  {
   "cell_type": "markdown",
   "id": "dc65b897-4e0f-4bab-be70-97677dd14141",
   "metadata": {},
   "source": [
    "Importing the dataset ('Students_gamification_grades.csv'), pandas (for handling and analyzing data), and numpy (for statistical calculations). The pd.read_csv() function is used for reading the CSV file and storing it in a DataFrame object (df). \n",
    "\n",
    "The information in this dataset includes:\n",
    "- **Student_ID:** expressed in numeric numbers\n",
    "- **Practice_Exam:** expressed in numeric numbers; max score is 10\n",
    "- **Final_Exam:** expressed in numeric numbers; max score is 10\n",
    "- **User:** expressed in 1 for user and 0 for non-user\n",
    "- **Avg_Grade_Q1-6:** average grade achieved in the quizzes featured on gamified learning platform\n",
    "- **No_access_Q1-6:** number of times student accessed the quizzes featured on gamified learning platform"
   ]
  },
  {
   "cell_type": "code",
   "execution_count": 1,
   "id": "44cfe83e-b656-45f0-bffa-cb0d3aaa18a7",
   "metadata": {},
   "outputs": [],
   "source": [
    "import pandas as pd\n",
    "import numpy as np\n",
    "import matplotlib.pyplot as plt \n",
    "import seaborn as sns\n",
    "import scipy.stats as stats\n",
    "from scipy.stats import pearsonr, ttest_rel, ttest_ind\n",
    "\n",
    "file_path = \"Students_gamification_grades.csv\"\n",
    "df = pd.read_csv(file_path)"
   ]
  },
  {
   "cell_type": "markdown",
   "id": "b3370acb-b560-4cf8-b14d-021bab545ca6",
   "metadata": {},
   "source": [
    "### Summary Statistics\n",
    "\n",
    "To get an overview of the central tendencies and variability in the practice and final exam grades, descriptive statistics were used for calculating the dataset of students who took both the practice exam and final exam.\n",
    "\n",
    "The dataset had some null values in the 'Practice_Exam' column for students that did not take the practice exam. To account for this, the data for the practice exam was filtered using the .notnull() method to exclude students who did not take the practice exam. "
   ]
  },
  {
   "cell_type": "code",
   "execution_count": 2,
   "id": "49cfede6-7ea3-4cca-b8e7-9fb07d6afae6",
   "metadata": {},
   "outputs": [
    {
     "name": "stdout",
     "output_type": "stream",
     "text": [
      "       Practice_Exam  Final_Exam\n",
      "count      57.000000   57.000000\n",
      "mean        5.772456    7.252807\n",
      "std         2.425703    1.356736\n",
      "min         0.000000    3.980000\n",
      "25%         4.280000    6.300000\n",
      "50%         5.870000    7.360000\n",
      "75%         7.670000    8.170000\n",
      "max        10.000000    9.720000\n"
     ]
    }
   ],
   "source": [
    "df_filtered = df[df['Practice_Exam'].notnull()]\n",
    "summary_stats = df_filtered[['Practice_Exam', 'Final_Exam']].describe()\n",
    "print(summary_stats)"
   ]
  },
  {
   "cell_type": "markdown",
   "id": "00e982dc-5f40-4d52-8b4f-6facbe75915f",
   "metadata": {},
   "source": [
    "Through the .describe() methods, can gather:\n",
    "\n",
    "- **Count:** Number of students who have taken both the practice and final exams *(should be equal for consistency and to prevent bias resulting from missing data).*\n",
    "- **Mean:** Average of the final exam grades is higher than practice exam grades.\n",
    "- **Standard Deviation:** Practice exam grades are more spread out compared to final exam grades, indicating greater variability in practice exam performance and more consistency in final exam grades.\n",
    "- **Min/Max:** Lowest and highest grade earned in practice and final exam.\n",
    "- **25%, 50%, 75%:** Median is closer to the 75% percentile than 25% percentile for both exams, which can indicate that most students performed better on the final exam than on the practice exam."
   ]
  },
  {
   "cell_type": "markdown",
   "id": "f7f6396c-8b88-465b-ab29-9714b8039b50",
   "metadata": {},
   "source": [
    "### Distribution Frequency\n",
    "\n",
    "To start understanding the impact of gamified learning applications towards education, we need a way to quantify and measure engagement levels of students with the application. To do this, we measured the distribution frequency of quiz submissions to gauge engagement levels. We want to examine how often students engaged in the gamified learning application quizzes and whether this frequency has any correlation with their final grade performance. \n",
    "\n",
    "First, we calculated the sum total of times students accessed quizzess. After summing across the columns of No_access_Q{1-6}, we created the new variable 'Total_Quiz_Accessed' to represent the cumulative number of quizzes accessed by each student."
   ]
  },
  {
   "cell_type": "code",
   "execution_count": 3,
   "id": "2d3f24ef-04fc-485a-806c-910b257d2a51",
   "metadata": {},
   "outputs": [
    {
     "name": "stderr",
     "output_type": "stream",
     "text": [
      "/tmp/ipykernel_2821/639475457.py:1: SettingWithCopyWarning: \n",
      "A value is trying to be set on a copy of a slice from a DataFrame.\n",
      "Try using .loc[row_indexer,col_indexer] = value instead\n",
      "\n",
      "See the caveats in the documentation: https://pandas.pydata.org/pandas-docs/stable/user_guide/indexing.html#returning-a-view-versus-a-copy\n",
      "  df_filtered.loc[:, 'Total_Quiz_Accessed'] = df_filtered[[f'No_access_Q{quiz}' for quiz in range(1, 7)]].sum(axis=1)\n"
     ]
    }
   ],
   "source": [
    "df_filtered.loc[:, 'Total_Quiz_Accessed'] = df_filtered[[f'No_access_Q{quiz}' for quiz in range(1, 7)]].sum(axis=1)\n",
    "#print(df_filtered['Total_Quiz_Accessed'])"
   ]
  },
  {
   "cell_type": "markdown",
   "id": "bdcb2754-565e-4a3f-8f9b-6614a90a6cdb",
   "metadata": {},
   "source": [
    "To understand the distribution of quizzes accessed, we categorized the 'Total_Quiz_Accessed\" by dividing them into quartiles using the .quartile() method:\n",
    "- **Q1:** 25th percentile; Represents the value below 25% of 'Total_Quiz_Accessed'\n",
    "- **Q2:** 50th percentile; Represents the value below 50% of 'Total_Quiz_Accessed'\n",
    "- **Q3:** 75th percentile; Represents the value below 75% of 'Total_Quiz_Accessed'"
   ]
  },
  {
   "cell_type": "code",
   "execution_count": 4,
   "id": "55cb6bd5-1f0b-4075-aa2e-a08d904192c5",
   "metadata": {},
   "outputs": [
    {
     "name": "stdout",
     "output_type": "stream",
     "text": [
      "Quartile Calculation\n",
      "Q1: 0.0\n",
      "Q2: 6.0\n",
      "Q3: 9.0\n",
      "Quiz_Engagement_Freq\n",
      "No_Engagement          16\n",
      "Low_Engagement         13\n",
      "Moderate_Engagement    15\n",
      "High_Engagement        13\n",
      "Name: count, dtype: int64\n"
     ]
    },
    {
     "name": "stderr",
     "output_type": "stream",
     "text": [
      "/tmp/ipykernel_2821/1483450070.py:11: SettingWithCopyWarning: \n",
      "A value is trying to be set on a copy of a slice from a DataFrame.\n",
      "Try using .loc[row_indexer,col_indexer] = value instead\n",
      "\n",
      "See the caveats in the documentation: https://pandas.pydata.org/pandas-docs/stable/user_guide/indexing.html#returning-a-view-versus-a-copy\n",
      "  df_filtered.loc[:, 'Quiz_Engagement_Freq'] = pd.cut(\n"
     ]
    }
   ],
   "source": [
    "Q1 = df_filtered['Total_Quiz_Accessed'].quantile(0.25)\n",
    "Q2 = df_filtered['Total_Quiz_Accessed'].quantile(0.50)\n",
    "Q3 = df_filtered['Total_Quiz_Accessed'].quantile(0.75)\n",
    "IQR = Q3 - Q1\n",
    "\n",
    "print('Quartile Calculation')\n",
    "print(f\"Q1: {Q1}\")\n",
    "print(f\"Q2: {Q2}\")\n",
    "print(f\"Q3: {Q3}\")\n",
    "\n",
    "df_filtered.loc[:, 'Quiz_Engagement_Freq'] = pd.cut(\n",
    "    df_filtered['Total_Quiz_Accessed'],\n",
    "    bins=[-float('inf'), Q1, Q2, Q3, float('inf')],\n",
    "    labels=['No_Engagement', 'Low_Engagement', 'Moderate_Engagement', 'High_Engagement'],\n",
    "    ordered=True\n",
    ")\n",
    "\n",
    "print(df_filtered['Quiz_Engagement_Freq'].value_counts().sort_index())"
   ]
  },
  {
   "cell_type": "markdown",
   "id": "cb6882d4-abd7-449e-bbde-a7bab663e086",
   "metadata": {},
   "source": [
    "We categorized the engagement frequency into four categories:\n",
    "- **No_Engagement:** Students who did not access any quizzes\n",
    "- **Low_Engagement:** Students who accessed more than 0, but less than 6 total quizzes \n",
    "- **Moderate_Engagement:** Students who accessed more than 6, but less than 9 total quizzes \n",
    "- **High_Engagement:** Students who accessed more than 9 total quizzes\n",
    "\n",
    "With that, we get a summary display of how users are distributed across different levels of quiz engagement."
   ]
  },
  {
   "cell_type": "markdown",
   "id": "5fc02384-5347-407e-b817-fd4d07be73db",
   "metadata": {},
   "source": [
    "In efforts to reduce bias, we will also calculate for any outliers in our dataset. To do this, we set our outliers to any values in the 'Total_Quiz_Accessed' that exceeds the upper_bound value which was derived using the Turkey's boxplot rule method which multiplies the IQR by 1.5 to create a range to find extreme values."
   ]
  },
  {
   "cell_type": "code",
   "execution_count": 5,
   "id": "3b89a10b-4eac-43a0-afc4-06f36a349608",
   "metadata": {},
   "outputs": [
    {
     "name": "stdout",
     "output_type": "stream",
     "text": [
      "22.5\n",
      "Empty DataFrame\n",
      "Columns: [Student_ID, Practice_Exam, Final_Exam, User, Avg_Grade_Q1, Avg_Grade_Q2, Avg_Grade_Q3, Avg_Grade_Q4, Avg_Grade_Q5, Avg_Grade_Q6, No_access_Q1, No_access_Q2, No_access_Q3, No_access_Q4, No_access_Q5, No_access_Q6, Total_Quiz_Accessed, Quiz_Engagement_Freq]\n",
      "Index: []\n"
     ]
    }
   ],
   "source": [
    "upper_bound = Q3 + 1.5 * IQR\n",
    "print(upper_bound)\n",
    "\n",
    "outlier = df_filtered[(df_filtered['Total_Quiz_Accessed'] > upper_bound)]\n",
    "print(outlier)"
   ]
  },
  {
   "cell_type": "markdown",
   "id": "6df9ed11-b9b0-4e7d-bd56-1dc822f8dbf0",
   "metadata": {},
   "source": [
    "Our output indicates that *none* of the values in 'Total_Quiz_Accessed' are considered an outlier, allowing us to continue to the next step of the analysis."
   ]
  },
  {
   "cell_type": "markdown",
   "id": "3c7910d0-ba59-499a-ac36-5cee593e918d",
   "metadata": {},
   "source": [
    "To visualize the distribution of engagement levels, we used a bar chart to show how students varied across the four levels of quiz engagement.\n",
    "\n",
    "Through this bar chart, we can see how although the distribution seems relatively even throughout the four categories, there tends to be more students in the 'No_Engagement' and 'Moderate_Engagement' divisions."
   ]
  },
  {
   "cell_type": "code",
   "execution_count": 6,
   "id": "8d6a5bc2-daed-4015-8684-65499f861f97",
   "metadata": {},
   "outputs": [
    {
     "data": {
      "image/png": "[encoded data removed]",
      "text/plain": [
       "<Figure size 640x480 with 1 Axes>"
      ]
     },
     "metadata": {},
     "output_type": "display_data"
    }
   ],
   "source": [
    "ax = df_filtered['Quiz_Engagement_Freq'].value_counts().sort_index().plot(kind='bar', color='skyblue')\n",
    "plt.title(\"Distribution of Quiz Engagement Levels\")\n",
    "plt.xlabel(\"Engagement Levels\")\n",
    "labels = ['x=0', '0<x<=6', '6<x<=9', 'x>9']\n",
    "for i, label in enumerate(labels):\n",
    "    ax.text(i, -1.5, label, ha='center', va='center', fontsize=10, color='black', rotation=45)\n",
    "plt.ylabel(\"Number of Students\")\n",
    "plt.xticks(rotation=45)\n",
    "\n",
    "output_path = \"distribution_of_quiz_engagement_levels.png\"\n",
    "plt.savefig(output_path, dpi=300, bbox_inches='tight')\n",
    "plt.show()"
   ]
  },
  {
   "cell_type": "markdown",
   "id": "659402cd-bc1b-4c70-9cc1-3dfbfc09894d",
   "metadata": {},
   "source": [
    "Using the categories, we calculate the average grades for 'Practice_Exam' and 'Final_Exam' across the different levels of quiz engagement. By grouping the students based on their quiz engagement levels ('Quiz_Engagement_Freq'), we can analyze whether there are any trends or patterns from the mean exam scores."
   ]
  },
  {
   "cell_type": "code",
   "execution_count": 32,
   "id": "e594f2cd-07ee-4172-9231-40c7f52a2563",
   "metadata": {},
   "outputs": [
    {
     "name": "stdout",
     "output_type": "stream",
     "text": [
      "                      Practice_Exam  Final_Exam\n",
      "Quiz_Engagement_Freq                           \n",
      "No_Engagement              5.154375    6.753750\n",
      "Low_Engagement             5.938462    7.629231\n",
      "Moderate_Engagement        6.352000    7.092667\n",
      "High_Engagement            5.698462    7.675385\n"
     ]
    },
    {
     "data": {
      "image/png": "[encoded data removed]",
      "text/plain": [
       "<Figure size 1000x600 with 1 Axes>"
      ]
     },
     "metadata": {},
     "output_type": "display_data"
    }
   ],
   "source": [
    "engagement_grades = df_filtered.groupby('Quiz_Engagement_Freq', observed=False)[['Practice_Exam', 'Final_Exam']].mean()\n",
    "print(engagement_grades)\n",
    "\n",
    "ax = engagement_grades.plot(kind='bar', figsize=(10, 6))\n",
    "plt.title('Average Grades by Engagement Level')\n",
    "plt.xlabel('Engagement Level')\n",
    "for i, label in enumerate(labels):\n",
    "    ax.text(i, -0.75, label, ha='center', va='center', fontsize=10, color='black', rotation=45)\n",
    "plt.ylabel('Average Grade')\n",
    "plt.xticks(rotation=45)\n",
    "\n",
    "output_path = \"average_grades_by_engagement_level.png\"\n",
    "plt.savefig(output_path, dpi=300, bbox_inches='tight')\n",
    "plt.show()"
   ]
  },
  {
   "cell_type": "markdown",
   "id": "b73bcfaa-f963-4e9b-8669-30d1d89688d4",
   "metadata": {},
   "source": [
    "Just based on first observation, we can see there is a trend of the 'Final_Exam' grades being higher than 'Practice_Exam' grades regardless of engagement levels. We can also see the average of 'Final_Exam' grades to be slightly higher among students who have interacted with the quizzes compared to those who do not have any interactions with quizzes. \n",
    "\n",
    "However, we need to do further analysis to uncover whether the difference is statistically significant enough -- which leads us to the next step."
   ]
  },
  {
   "cell_type": "markdown",
   "id": "3ae12071-c0e3-4e26-a251-e9cb91d0d6c7",
   "metadata": {},
   "source": [
    "### Comparative Analysis"
   ]
  },
  {
   "cell_type": "markdown",
   "id": "30e9bc5d-112a-4ade-8cec-d1b02a8860f7",
   "metadata": {},
   "source": [
    "**Analysis of Variance (ANOVA) Test**\n",
    "\n",
    "This section of the analysis applies the ANOVA test to assess whether there are statistically significant differences in exam scores ('Practice_Exam' and 'Final_Exam') based on the students' levels of quiz engagement. We use the ANOVA test as we are comparing the mean scores across multiple groups. By calculating the f-statistic and p-value from the ANOVA test, we can determine whether any observed differences in exam scores are statistically significant or if they are likely due to random chance [6].\n",
    "\n",
    "So we first define the groups for comparison: 'anova_practice' for the 'Practice_Exam' mean across engagement groups and the 'anova_final' for the 'Final_Exam' mean across engagement groups. We then print out and assess the f-statistic and p-value."
   ]
  },
  {
   "cell_type": "code",
   "execution_count": 9,
   "id": "d9ee1544-5990-4635-ab17-6134644da596",
   "metadata": {},
   "outputs": [
    {
     "name": "stdout",
     "output_type": "stream",
     "text": [
      "ANOVA F-statistics for Practice Exam: 0.6434766810208861\n",
      "ANOVA p-value for Practice Exam: 0.5904891347447682\n",
      "ANOVA F-statistics for Final Exam: 1.594439211313945\n",
      "ANOVA p-value for Final Exam: 0.20164665889086208\n"
     ]
    }
   ],
   "source": [
    "anova_practice = stats.f_oneway(\n",
    "    df_filtered[df_filtered['Quiz_Engagement_Freq'] == 'No_Engagement']['Practice_Exam'],\n",
    "    df_filtered[df_filtered['Quiz_Engagement_Freq'] == 'Low_Engagement']['Practice_Exam'],\n",
    "    df_filtered[df_filtered['Quiz_Engagement_Freq'] == 'Moderate_Engagement']['Practice_Exam'],\n",
    "    df_filtered[df_filtered['Quiz_Engagement_Freq'] == 'High_Engagement']['Practice_Exam']\n",
    ")\n",
    "\n",
    "anova_final = stats.f_oneway(\n",
    "    df_filtered[df_filtered['Quiz_Engagement_Freq'] == 'No_Engagement']['Final_Exam'],\n",
    "    df_filtered[df_filtered['Quiz_Engagement_Freq'] == 'Low_Engagement']['Final_Exam'],\n",
    "    df_filtered[df_filtered['Quiz_Engagement_Freq'] == 'Moderate_Engagement']['Final_Exam'],\n",
    "    df_filtered[df_filtered['Quiz_Engagement_Freq'] == 'High_Engagement']['Final_Exam']\n",
    ")\n",
    "\n",
    "print(f\"ANOVA F-statistics for Practice Exam: {anova_practice.statistic}\")\n",
    "print(f\"ANOVA p-value for Practice Exam: {anova_practice.pvalue}\")\n",
    "\n",
    "print(f\"ANOVA F-statistics for Final Exam: {anova_final.statistic}\")\n",
    "print(f\"ANOVA p-value for Final Exam: {anova_final.pvalue}\")"
   ]
  },
  {
   "cell_type": "markdown",
   "id": "3c874b30-a500-4bc7-8810-efa4d8c8b681",
   "metadata": {},
   "source": [
    "What we can gather from the ANOVA p-value results are:\n",
    "\n",
    "**anova_practice**\n",
    "- F-Statistic: Low; differences in the Practice_Exam scores between the quiz engagement groups are small\n",
    "- P-Value: Greater than 0.05 -- fail to reject null hypothesis; no statistically significant difference in Practice_Exam performance between students with different quiz engagement levels\n",
    "\n",
    "**anova_final:** \n",
    "- F-Statistic: Low; little to no difference between the engagement groups\n",
    "- P-Value: Greater than 0.05 -- fail to reject null hypothesis; no statistically significant difference in Final_Exam performance between students with different quiz engagement levels"
   ]
  },
  {
   "cell_type": "markdown",
   "id": "a00a90aa-88f3-4345-9826-b473699863b9",
   "metadata": {},
   "source": [
    "### Correlation Analysis"
   ]
  },
  {
   "cell_type": "markdown",
   "id": "810d3cdc-2d7e-4b8a-b03d-185d927c3f51",
   "metadata": {},
   "source": [
    "**Pearson's Correlation Coefficient (r)**\n",
    "\n",
    "Our next analysis is utilizing the Pearson's Correlation Coefficient (r) value to assess the strength and direction of the linear relationship between two variables, and supplementing it with the p-value to determine whether that relationship is statistically significant or not [7].\n",
    "\n",
    "For this assessment, we are using the pearsonr() function to calculate the Pearson's r value and inputting the values from 'Total_Quiz_Accessed' and 'Final_Exam' to get the relationship between quiz engagement and final exam score."
   ]
  },
  {
   "cell_type": "code",
   "execution_count": 10,
   "id": "1169f0b5-2fba-499f-815b-d815560c0f94",
   "metadata": {},
   "outputs": [
    {
     "name": "stdout",
     "output_type": "stream",
     "text": [
      "Pearson's r: 0.20217678563627467\n",
      "P-value: 0.13150143251057048\n"
     ]
    }
   ],
   "source": [
    "correlation, p_value = pearsonr(df_filtered['Total_Quiz_Accessed'], df_filtered['Final_Exam'])\n",
    "\n",
    "print(f\"Pearson's r: {correlation}\")\n",
    "print(f\"P-value: {p_value}\")"
   ]
  },
  {
   "cell_type": "markdown",
   "id": "1a4be149-24c7-48c1-8381-7125d071eca1",
   "metadata": {},
   "source": [
    "From the Pearson's Correlation Coefficient (r), we can gather:\n",
    "- **Pearson's r:** Weak positive correlation; positive value indicates that as students access more quizzes, their final exam scores tend to be higher, although the relationship is weak\n",
    "- **P-Value:** Greater than 0.05 -- fail to reject null hypothesis; no statistically significant linear relationship between quiz engagement and final exam score."
   ]
  },
  {
   "cell_type": "code",
   "execution_count": 11,
   "id": "6be3c4dd-2d76-4fd3-9f73-054376bd6299",
   "metadata": {},
   "outputs": [
    {
     "data": {
      "image/png": "[encoded data removed]",
      "text/plain": [
       "<Figure size 800x600 with 1 Axes>"
      ]
     },
     "metadata": {},
     "output_type": "display_data"
    }
   ],
   "source": [
    "plt.figure(figsize=(8, 6))\n",
    "sns.regplot(\n",
    "    x='Total_Quiz_Accessed', \n",
    "    y='Final_Exam', \n",
    "    data=df_filtered, \n",
    "    scatter_kws={'color': 'skyblue'}, \n",
    "    line_kws={'color': 'red', 'linewidth': 2}\n",
    ")\n",
    "plt.title('Quiz Submission Frequency vs. Final Exam Grade')\n",
    "plt.xlabel('Quiz Submission Frequency')\n",
    "plt.ylabel('Exam Grade')\n",
    "plt.axhline(0, color='gray', linestyle='--', linewidth=0.7)\n",
    "\n",
    "output_path = \"scatter_plot_final_exam_vs_quiz_frequency.png\" \n",
    "plt.savefig(output_path, dpi=300, bbox_inches='tight') \n",
    "plt.show()"
   ]
  },
  {
   "cell_type": "markdown",
   "id": "04ab714f-5b83-4618-9fc9-df074e948cd9",
   "metadata": {},
   "source": [
    "From the scatterplot, we can also observe the weak positive linear relationship. We can also observe the high variability of quiz engagement and final exam score for each student."
   ]
  },
  {
   "cell_type": "markdown",
   "id": "5dca4e04-ee48-4f67-ad38-8f458cff8ef4",
   "metadata": {},
   "source": [
    "# MARKDOWN"
   ]
  },
  {
   "cell_type": "code",
   "execution_count": 31,
   "id": "26c2da96-6ff1-4a96-857f-6845fa4012af",
   "metadata": {},
   "outputs": [
    {
     "name": "stdout",
     "output_type": "stream",
     "text": [
      "Number of student users: 41\n",
      "Number of student non-users: 16\n"
     ]
    }
   ],
   "source": [
    "platform_users = df_filtered[df_filtered['User'] == 1]\n",
    "non_platform_users = df_filtered[df_filtered['User'] == 0]\n",
    "\n",
    "print(f\"Number of student users: {len(platform_users)}\")\n",
    "print(f\"Number of student non-users: {len(non_platform_users)}\")"
   ]
  },
  {
   "cell_type": "markdown",
   "id": "75200bfb-f9cb-411e-bb65-63d18e910b14",
   "metadata": {},
   "source": [
    "# MARKDOWN"
   ]
  },
  {
   "cell_type": "code",
   "execution_count": 28,
   "id": "395ab7c2-511e-4185-b681-bb57df1ef265",
   "metadata": {},
   "outputs": [
    {
     "name": "stdout",
     "output_type": "stream",
     "text": [
      "Dependent t-test t-statistic for users: -4.4438997640703155\n",
      "Dependent t-test p-value for users: 6.828638475561588e-05\n"
     ]
    }
   ],
   "source": [
    "dependent_ttest_user = ttest_rel(platform_users['Practice_Exam'], platform_users['Final_Exam'])\n",
    "\n",
    "print(f\"Dependent t-test t-statistic for users: {dependent_ttest_user.statistic}\")\n",
    "print(f\"Dependent t-test p-value for users: {dependent_ttest_user.pvalue}\")"
   ]
  },
  {
   "cell_type": "markdown",
   "id": "f9e09995-dc26-4c95-91f2-df2ce70b564c",
   "metadata": {},
   "source": [
    "# MARKDOWN"
   ]
  },
  {
   "cell_type": "code",
   "execution_count": 29,
   "id": "25ed6033-532f-4088-97c6-99bfb5570988",
   "metadata": {},
   "outputs": [
    {
     "name": "stdout",
     "output_type": "stream",
     "text": [
      "Cohen's d: 0.7801195425915665\n"
     ]
    }
   ],
   "source": [
    "mean_diff = platform_users['Final_Exam'].mean() - platform_users['Practice_Exam'].mean()\n",
    "pooled_sd = platform_users[['Practice_Exam', 'Final_Exam']].stack().std()\n",
    "cohen_d = mean_diff / pooled_sd\n",
    "\n",
    "print(f\"Cohen's d: {cohen_d}\")\n"
   ]
  },
  {
   "cell_type": "markdown",
   "id": "e13552fc-7ec7-4ed4-af00-3e8421913c8b",
   "metadata": {},
   "source": [
    "# MARKDOWN\n",
    "\n",
    "**Welch's t-test**"
   ]
  },
  {
   "cell_type": "code",
   "execution_count": 21,
   "id": "c35aa59e-1071-4ed0-ac97-aa63ba19689e",
   "metadata": {},
   "outputs": [
    {
     "name": "stdout",
     "output_type": "stream",
     "text": [
      "Independent t-test t-statistic: -0.19653640911405257\n",
      "Independent t-test p-value: 0.8461367139598333\n"
     ]
    }
   ],
   "source": [
    "df_filtered.loc[:, 'Grade_Improvement'] = df_filtered['Final_Exam'] - df_filtered['Practice_Exam']\n",
    "\n",
    "users = platform_users['Grade_Improvement']\n",
    "non_users = non_platform_users['Grade_Improvement']\n",
    "\n",
    "independent_ttest = ttest_ind(users, non_users, equal_var=False)\n",
    "\n",
    "print(f\"Independent t-test t-statistic: {independent_ttest.statistic}\")\n",
    "print(f\"Independent t-test p-value: {independent_ttest.pvalue}\")"
   ]
  },
  {
   "cell_type": "markdown",
   "id": "9d9b3432-6556-4211-abf0-66ab00734e36",
   "metadata": {},
   "source": [
    "## Findings"
   ]
  },
  {
   "cell_type": "markdown",
   "id": "6242fe32-f356-4caa-a6c6-c712ad8bd1a1",
   "metadata": {},
   "source": []
  },
  {
   "cell_type": "markdown",
   "id": "9132ef9f-13e1-4c8d-bda0-751b8176c8e9",
   "metadata": {},
   "source": [
    "## Conclusion"
   ]
  },
  {
   "cell_type": "markdown",
   "id": "374fc927-9459-4d01-85ee-ba2d820cb032",
   "metadata": {},
   "source": [
    "## References"
   ]
  },
  {
   "cell_type": "markdown",
   "id": "3cd6d7c3-f56a-4cf2-b985-8a8b64885071",
   "metadata": {},
   "source": [
    "[1] Christians, Gerald, \"The Origins and Future of Gamification\" (2018). Senior Theses. 254. \n",
    "https://scholarcommons.sc.edu/senior_theses/254 \n",
    "\n",
    "[2]T. Staff, “A Brief History Of Gamification In Education,” TeachThought, Aug. 27, 2012. https://www.teachthought.com/education/a-brief-history-of-gamification-in-education/ \n",
    "\n",
    "[3] Mark Weiser. 1999. The computer for the 21st century. SIGMOBILE Mob. Comput. Commun. Rev. 3, 3 (July 1999), 3–11. https://doi.org/10.1145/329124.329126\n",
    "\n",
    "[4] Khoshnoodifar M, Ashouri A, Taheri M. Effectiveness of Gamification in Enhancing Learning and Attitudes: A Study of Statistics Education for Health School Students. J Adv Med Educ Prof. 2023;11(4):230-239. doi:10.30476/JAMP.2023.98953.1817\n",
    "\n",
    "[5] H. Conick, “Gamification is Manipulative. Is It Ethical?,” American Marketing Association, Jul. 30, 2019. https://www.ama.org/marketing-news/gamification-is-manipulative-is-it-ethical/ \n",
    "\n",
    "[6] P. Peterka, “ANOVA F Value: Mastering Signal-to-Noise Ratio for Data Analysis,” SixSigma.us, May 09, 2024. https://www.6sigma.us/six-sigma-in-focus/anova-f-value-meaning/\r\n",
    "[7] Kent State University, “SPSS Tutorials: Pearson Correlation,” Kent.edu, 2018. https://libguides.library.kent.edu/SPSS/PearsonCorr\r\n",
    "‌\n",
    "[8] G. M. Sullivan and R. Feinn, “Using effect size—or why the p value is not enough,” Journal of Graduate Medical Education, vol. 4, no. 3, pp. 279–282, Sep. 2012, doi: https://doi.org/10.4300/JGME-D-12-00156.1.\r\n",
    "‌‌\n",
    "\n",
    "https://statisticsbyjim.com/basics/cohens-d/"
   ]
  },
  {
   "cell_type": "code",
   "execution_count": null,
   "id": "13b1379d-1069-45bc-bc44-439feab13d7b",
   "metadata": {},
   "outputs": [],
   "source": []
  }
 ],
 "metadata": {
  "kernelspec": {
   "display_name": "Python 3 (ipykernel)",
   "language": "python",
   "name": "python3"
  },
  "language_info": {
   "codemirror_mode": {
    "name": "ipython",
    "version": 3
   },
   "file_extension": ".py",
   "mimetype": "text/x-python",
   "name": "python",
   "nbconvert_exporter": "python",
   "pygments_lexer": "ipython3",
   "version": "3.10.13"
  }
 },
 "nbformat": 4,
 "nbformat_minor": 5
}
