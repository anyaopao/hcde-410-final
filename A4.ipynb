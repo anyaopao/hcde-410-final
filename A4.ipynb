{
 "cells": [
  {
   "cell_type": "markdown",
   "id": "5d4b54f0-823d-4c2e-aea9-aa0e9c94287c",
   "metadata": {},
   "source": [
    "# **A4: Final project preliminary proposal**"
   ]
  },
  {
   "cell_type": "markdown",
   "id": "2aa66643-01c7-4b38-8e48-63e29574da0a",
   "metadata": {},
   "source": [
    "### Analyzing the Impact of the Pandemic on Video Game Console Sales and Prices"
   ]
  },
  {
   "cell_type": "markdown",
   "id": "ee08a7cb-867e-443b-8488-8ad0f7384556",
   "metadata": {},
   "source": [
    "## Problem Statement"
   ]
  },
  {
   "cell_type": "markdown",
   "id": "993ea24b-cd8d-4c55-a49d-216322ca6c0a",
   "metadata": {},
   "source": [
    "The COVID-19 pandemic led to global quarantines and lockdowns, forcing people to isolate and limit social interactions for an extended period of time.\n",
    "\n",
    "Video games can offer a sense of social connection and entertainment through their immersive and interactive nature.\n",
    "\n",
    "In response to these challenging times, many turned to video games as a means for escapism from reality.\n",
    "\n",
    "This project aims to study the relationship trend between video game sales before, during, and after the pandemic. By cross-analyzing sales data and COVID-19, this study aims to gain insight into how global events, such as the pandemic, influences entertainment consumption."
   ]
  },
  {
   "cell_type": "markdown",
   "id": "ff12ba58-95bd-41f5-8db7-3fe325ed9a6c",
   "metadata": {},
   "source": [
    "## Data Selection\n"
   ]
  },
  {
   "cell_type": "markdown",
   "id": "41f00632-5f28-4c3f-8d63-78d1927e7cda",
   "metadata": {},
   "source": [
    "For this study, the dataset(s) utilized will be the following...\n",
    "- **[COVID-19 Data Repository by the Center for Systems Science and Engineering (CSSE) at Johns Hopkins University:](https://github.com/CSSEGISandData/COVID-19)** dataset containing global COVID-19 data, such as updated cases, deaths, and vaccine data.\n",
    "    - **License/Terms of Use:** Creative Commons Attribution 4.0 International (CC BY 4.0) by the Johns Hopkins University on behalf of its Center for Systems Science in Engineering. Copyright Johns Hopkins University 2020. Allows use of data if cited \"Dong E, Du H, Gardner L. An interactive web-based dashboard to track COVID-19 in real time. Lancet Inf Dis. 20(5):533-534. doi: 10.1016/S1473-3099(20)30120-1\"\n",
    "    - **Relevancy:** Contains data on COVID-19 trends throughout the pandemic."
   ]
  },
  {
   "cell_type": "markdown",
   "id": "03c9842c-dcc6-4914-aae0-3f28843f11ba",
   "metadata": {},
   "source": [
    "- **[vgsales.csv:](https://www.kaggle.com/datasets/gregorut/videogamesales)** dataset contains a list of video games with sales greater than 100000 copies.\n",
    "    - **License/Terms of Use:** Unknown\n",
    "    - **Relevancy:** Contains video games sales information (NA, JP, EU, Other) from a wide array of games, as well as year of game's release year."
   ]
  },
  {
   "cell_type": "markdown",
   "id": "8e0201e5-96e6-49df-b74b-8439e2e58f39",
   "metadata": {},
   "source": [
    "## Unknowns & Dependencies"
   ]
  },
  {
   "cell_type": "markdown",
   "id": "30a302b2-c9ad-437d-8753-de9f6c34bb9f",
   "metadata": {},
   "source": [
    "- Difficulty sorting data: Especially identifying regional data.\n",
    "- Finding ideal data set to conduct analysis."
   ]
  },
  {
   "cell_type": "code",
   "execution_count": null,
   "id": "41eee414-a562-4a66-8628-57b617cd3c0e",
   "metadata": {},
   "outputs": [],
   "source": []
  }
 ],
 "metadata": {
  "kernelspec": {
   "display_name": "Python 3 (ipykernel)",
   "language": "python",
   "name": "python3"
  },
  "language_info": {
   "codemirror_mode": {
    "name": "ipython",
    "version": 3
   },
   "file_extension": ".py",
   "mimetype": "text/x-python",
   "name": "python",
   "nbconvert_exporter": "python",
   "pygments_lexer": "ipython3",
   "version": "3.10.13"
  }
 },
 "nbformat": 4,
 "nbformat_minor": 5
}
