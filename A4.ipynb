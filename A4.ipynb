{
 "cells": [
  {
   "cell_type": "markdown",
   "id": "5d4b54f0-823d-4c2e-aea9-aa0e9c94287c",
   "metadata": {},
   "source": [
    "# **A4: Final project preliminary proposal**"
   ]
  },
  {
   "cell_type": "markdown",
   "id": "2aa66643-01c7-4b38-8e48-63e29574da0a",
   "metadata": {},
   "source": [
    "### Analyzing the Impact of the Pandemic on Video Game Console Sales and Prices"
   ]
  },
  {
   "cell_type": "markdown",
   "id": "ee08a7cb-867e-443b-8488-8ad0f7384556",
   "metadata": {},
   "source": [
    "## Problem Statement"
   ]
  },
  {
   "cell_type": "markdown",
   "id": "993ea24b-cd8d-4c55-a49d-216322ca6c0a",
   "metadata": {},
   "source": []
  },
  {
   "cell_type": "markdown",
   "id": "ff12ba58-95bd-41f5-8db7-3fe325ed9a6c",
   "metadata": {},
   "source": [
    "## Data Selection\n"
   ]
  },
  {
   "cell_type": "markdown",
   "id": "41f00632-5f28-4c3f-8d63-78d1927e7cda",
   "metadata": {},
   "source": []
  },
  {
   "cell_type": "markdown",
   "id": "8e0201e5-96e6-49df-b74b-8439e2e58f39",
   "metadata": {},
   "source": [
    "## Unknowns & Dependencies"
   ]
  },
  {
   "cell_type": "markdown",
   "id": "30a302b2-c9ad-437d-8753-de9f6c34bb9f",
   "metadata": {},
   "source": []
  }
 ],
 "metadata": {
  "kernelspec": {
   "display_name": "Python 3 (ipykernel)",
   "language": "python",
   "name": "python3"
  },
  "language_info": {
   "codemirror_mode": {
    "name": "ipython",
    "version": 3
   },
   "file_extension": ".py",
   "mimetype": "text/x-python",
   "name": "python",
   "nbconvert_exporter": "python",
   "pygments_lexer": "ipython3",
   "version": "3.10.13"
  }
 },
 "nbformat": 4,
 "nbformat_minor": 5
}
