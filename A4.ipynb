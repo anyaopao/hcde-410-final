{
 "cells": [
  {
   "cell_type": "markdown",
   "id": "5d4b54f0-823d-4c2e-aea9-aa0e9c94287c",
   "metadata": {},
   "source": [
    "# **A4: Final Project Plan**"
   ]
  },
  {
   "cell_type": "markdown",
   "id": "2aa66643-01c7-4b38-8e48-63e29574da0a",
   "metadata": {},
   "source": [
    "### Analyzing the Impact of Gamification towards Education"
   ]
  },
  {
   "cell_type": "markdown",
   "id": "ee08a7cb-867e-443b-8488-8ad0f7384556",
   "metadata": {},
   "source": [
    "## Overview"
   ]
  },
  {
   "cell_type": "markdown",
   "id": "670e9b7c-39d4-4680-b1db-ee6e56f82e52",
   "metadata": {},
   "source": [
    "Gamification in an educational setting has significantly increased in recent years. These platforms often rely on incorporating reward-based mechanics such as leaderboards, badges, point systems, and quizes to promote learning. With platforms such as *BrainPop*, *IXL*, *Kahoot!*, and *Quizlet* offering a fun and interactive environment, students are motivated to actively engage in the learning process. \n",
    "\n",
    "While several studies have indicated positive impacts of gamified learning platforms, the degree of effectiveness remains contentious. Additionally, some studies discuss the ethical implications of gamified learning platforms, such as the overemphasis on competition, coersion/persuasion, and unsustainability of these platforms in the long-term. \n",
    "\n",
    "In light of these conflicting findings, this project seeks to understand and evaluate the effectiveness of gamified learning platforms on students' academic performance."
   ]
  },
  {
   "cell_type": "markdown",
   "id": "993ea24b-cd8d-4c55-a49d-216322ca6c0a",
   "metadata": {},
   "source": [
    "## Research Questions"
   ]
  },
  {
   "cell_type": "markdown",
   "id": "2a58d093-ec7a-4b24-85cd-a844d13da595",
   "metadata": {},
   "source": [
    "1. *Do students who use the gamified learning platform achieve significantly higher results than non-users?*\n",
    "\n",
    "2. *How does the frequency of quiz submissions correlate with academic performance improvement?*\n",
    "\n",
    "3. *What is the effect of using a gamified learning platform on students’ final exam grades compared to their practice exam grades?*"
   ]
  },
  {
   "cell_type": "markdown",
   "id": "0c2bc390-1e12-4da7-8fd1-18f7905d99ec",
   "metadata": {},
   "source": [
    "## Background & Related Works"
   ]
  },
  {
   "cell_type": "markdown",
   "id": "b73df71c-ca10-4230-80d6-f0a59f4fcd81",
   "metadata": {},
   "source": [
    "Gamification, a term first coined by game designer Nick Pelling in the early 21st century, refers to the concept of using game elements and mechanics to non-game contexts to increase product engagement [1]. While the term itself is relatively new, the concept of gamification can be dated back to the early 1900s through the Boy Scout Movement where boy scouts earned badges for their achievements [1]. \n",
    "\n",
    "Over the course of time, designers have gained a better understanding into the underlying mechanics that make gamification engaging and boost motivation. From a behavioral psychology perspective, gamification utilizes persuasive mechanisms such as rewards, feedback loops, competition, and intrinsic motivations into these systems [2].\n",
    "\n",
    "Gamification in education started seeing significant progress in integration during the 2010s. Platforms that incorporated game mechanics into the learning process, like *Kahoot!* and *Classcraft*, gained popularity among students by making the learning process fun [2]. Its popularity can also be credited to how computer systems became much more ubiquitous during the 21st century [3].\n",
    "\n",
    "Previous studies evaluating the effectiveness of gamification in education have shown a positive correlation between platform usage and academic performance. However, it is important to note that these studies have also found the relationship to be unstable: \"Two meta-analysis studies [...] show that applying gamification in education can improve cognitive, motivational and behavioral learning outcomes with small to medium effect sizes (0.25 to 0.56). However, [...] the size of the reported effect [...] is not stable\" [4]. Much is still unknown about the factors that contribute to the efficacy of gamification, as well as how gamification holds up in the long-term.\n",
    "\n",
    "There are also debates pertaining to the ethical implications of gamification. According to Yu-Kai Chou, an entrepreneur and experience designer that pinoneered the industry of gamification, \"gamification is manipulative\" [5]. In otherwords, the mechanisms in gamification are very powerful in terms of persuasion. With a number of gamified platforms placing high value towards badge collection and ranks in leaderboards, it is easy for users to lose \"sight of why their action is desirable\" [5]. To balance, the key in creating a user friendly gamified platform would be transparency in experience: \"one where the consumer knows that they’re playing\" [5]."
   ]
  },
  {
   "cell_type": "markdown",
   "id": "ff12ba58-95bd-41f5-8db7-3fe325ed9a6c",
   "metadata": {},
   "source": [
    "## Data Selection\n"
   ]
  },
  {
   "cell_type": "markdown",
   "id": "41f00632-5f28-4c3f-8d63-78d1927e7cda",
   "metadata": {},
   "source": [
    "For this study, the dataset(s) utilized will be the following..."
   ]
  },
  {
   "cell_type": "markdown",
   "id": "2a688628-688a-4208-b9f1-7bfa270ea808",
   "metadata": {},
   "source": [
    "| **Dataset** | [🏅Gamification in Education](https://www.kaggle.com/datasets/gianinamariapetrascu/gamification-students-grades) |\n",
    "|:-----------|:--------------------------------------------------------------|\n",
    "| **Summary** | Dataset shows impact of gamified learning application towards exam grades |\n",
    "| **Measured Variables** | Platform Usage Status; Practice Exam Grades; Final Exam Grades; Average Quiz Grades; Quiz Submission Frequency |\n",
    "| **Relevance** | Contains measurable data under gamified and non-gamified conditions |\n",
    "| **Ethical Considerations** | No information on participant representation, content of learning application, informed consent in accessing grades |\n",
    "| **License/Terms of Use** | Data files © Gianina-Maria Petrașcu |"
   ]
  },
  {
   "cell_type": "markdown",
   "id": "8e0201e5-96e6-49df-b74b-8439e2e58f39",
   "metadata": {},
   "source": [
    "## Methodology"
   ]
  },
  {
   "cell_type": "markdown",
   "id": "8df76336-03e5-407a-81ce-5a39e45aadac",
   "metadata": {},
   "source": [
    "### Descriptive Statistics"
   ]
  },
  {
   "cell_type": "markdown",
   "id": "30a302b2-c9ad-437d-8753-de9f6c34bb9f",
   "metadata": {},
   "source": [
    "**Summary statistics (mean, median, standard deviation):** \n",
    "- For Practice Exam Grades (before platform usage) and Final Exam grades (after platform usage)\n",
    "- *Justification: Gives overview of central tendencies and variability in exam scores.*\n",
    "\n",
    "**Distribution Frequency:** \n",
    "- For number of quiz submission frequencies\n",
    "- *Justification: Reveals whether frequent engagement with platform correlates with better/improved academic performance.*"
   ]
  },
  {
   "cell_type": "markdown",
   "id": "d4bc13a5-1898-4d99-9b5e-33bc02935bd7",
   "metadata": {},
   "source": [
    "### Comparative Analysis"
   ]
  },
  {
   "cell_type": "markdown",
   "id": "fd27f2ea-b6a6-4683-b88d-13ad352ee0a2",
   "metadata": {},
   "source": [
    "**Dependent t-test:**\n",
    "- Compare Practice Exam Grades with Final Exam Grades for students who utilized gamified learning platform\n",
    "- *Justification: Comparing same group of students before and after utilizing platform. Assesses whether there was a statistically significant improvement in exam grades.*\n",
    "\n",
    "**Independent t-test:**\n",
    "- Compare grade difference between students who did and did not utilize gamified learning platform\n",
    "- *Justification: Comparing two groups -- students who did and did not utilize platform. Assess whether there was a statistically significant impact on final grades with/without using platform.*\n",
    "\n",
    "**Analysis of Variance (ANOVA) test:**\n",
    "- Compare difference in final grade across quiz submission frequency (divide into 3 groups).\n",
    "- *Justification: Comparing three groups -- quiz submission frequency divided into 3 groups. Assess whether there was a statistically significant impact on quiz submission frequency on final grades.*"
   ]
  },
  {
   "cell_type": "markdown",
   "id": "dc320052-0dc1-4f11-b019-1720bbfd0365",
   "metadata": {},
   "source": [
    "### Correlation Analysis"
   ]
  },
  {
   "cell_type": "markdown",
   "id": "2cfd2135-b6e9-4652-a537-1ad9bf57bcd2",
   "metadata": {},
   "source": [
    "**Pearson's Correlation Coefficient (r):** \n",
    "- Evaluate relationship between quiz submission frequency and grade improvement\n",
    "- *Justification: Determines statistical relationship between quiz submission frequency with academic performance improvement.*"
   ]
  },
  {
   "cell_type": "markdown",
   "id": "94f09f5e-6686-46a9-a234-ca1d41763db6",
   "metadata": {},
   "source": [
    "### Information Visualization"
   ]
  },
  {
   "cell_type": "markdown",
   "id": "23919d75-8b7b-4c3d-9b1f-e74848ef5399",
   "metadata": {},
   "source": [
    "**Boxplots:** \n",
    "- Show Final Exam Grade distribution for students who did and did not utilize gamified learning platform\n",
    "- *Justification: Clearly outlines central tendencies, variability, and potential outliers between the two groups -- students who did and did not utilize platform.*\n",
    "\n",
    "**Scatterplots:**\n",
    "- Show relationship between quiz submission frequency and grade improvement; Pearson's Correlation Coefficient findings\n",
    "- *Justification: Shows relationship strength and direction between quiz submission frequency and grade improvement.*"
   ]
  },
  {
   "cell_type": "markdown",
   "id": "91e0cf24-f074-423c-9b77-a85ba207ac82",
   "metadata": {},
   "source": [
    "## Unkowns & Dependencies"
   ]
  },
  {
   "cell_type": "markdown",
   "id": "e941cba8-be73-4580-be49-b56d5c755833",
   "metadata": {},
   "source": [
    "**Confounding Variables** \n",
    "\n",
    "- No information regarding dataset sampling: representative? students' prior knowledge? study habits? motivational levels?\n",
    "- Little information regarding gamified learning platform: the only information provided were that the platform included \"interactive flashcards and badges to engage them in learning about statistics and multidimensional statistical analysis\".\n",
    "- Engagement with platform is largely undocumented: time spent on platform? interactions with flashcards and badges?\n",
    "- Missing/Incomplete Data: Some cells in the dataset are missing, such as incomplete or missing exam grades."
   ]
  },
  {
   "cell_type": "markdown",
   "id": "374fc927-9459-4d01-85ee-ba2d820cb032",
   "metadata": {},
   "source": [
    "## References"
   ]
  },
  {
   "cell_type": "markdown",
   "id": "3cd6d7c3-f56a-4cf2-b985-8a8b64885071",
   "metadata": {},
   "source": [
    "[1] Christians, Gerald, \"The Origins and Future of Gamification\" (2018). Senior Theses. 254. \n",
    "https://scholarcommons.sc.edu/senior_theses/254 \n",
    "\n",
    "[2]T. Staff, “A Brief History Of Gamification In Education,” TeachThought, Aug. 27, 2012. https://www.teachthought.com/education/a-brief-history-of-gamification-in-education/ \n",
    "\n",
    "[3] Mark Weiser. 1999. The computer for the 21st century. SIGMOBILE Mob. Comput. Commun. Rev. 3, 3 (July 1999), 3–11. https://doi.org/10.1145/329124.329126\n",
    "\n",
    "[4] Khoshnoodifar M, Ashouri A, Taheri M. Effectiveness of Gamification in Enhancing Learning and Attitudes: A Study of Statistics Education for Health School Students. J Adv Med Educ Prof. 2023;11(4):230-239. doi:10.30476/JAMP.2023.98953.1817\n",
    "\n",
    "[5] H. Conick, “Gamification is Manipulative. Is It Ethical?,” American Marketing Association, Jul. 30, 2019. https://www.ama.org/marketing-news/gamification-is-manipulative-is-it-ethical/ "
   ]
  },
  {
   "cell_type": "code",
   "execution_count": null,
   "id": "13b1379d-1069-45bc-bc44-439feab13d7b",
   "metadata": {},
   "outputs": [],
   "source": []
  }
 ],
 "metadata": {
  "kernelspec": {
   "display_name": "Python 3 (ipykernel)",
   "language": "python",
   "name": "python3"
  },
  "language_info": {
   "codemirror_mode": {
    "name": "ipython",
    "version": 3
   },
   "file_extension": ".py",
   "mimetype": "text/x-python",
   "name": "python",
   "nbconvert_exporter": "python",
   "pygments_lexer": "ipython3",
   "version": "3.10.13"
  }
 },
 "nbformat": 4,
 "nbformat_minor": 5
}
